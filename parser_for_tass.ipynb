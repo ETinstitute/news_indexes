{
 "cells": [
  {
   "cell_type": "markdown",
   "id": "6f1a9911",
   "metadata": {},
   "source": [
    "# Загрузка необходимых библиотек"
   ]
  },
  {
   "cell_type": "code",
   "execution_count": 2,
   "id": "52017c6c",
   "metadata": {},
   "outputs": [],
   "source": [
    "import requests\n",
    "from fake_useragent import UserAgent\n",
    "import numpy as np\n",
    "import datetime\n",
    "import re\n",
    "from bs4 import BeautifulSoup\n",
    "from IPython.display import clear_output\n",
    "from fake_useragent import UserAgent\n",
    "import json\n",
    "from collections import Counter\n",
    "\n",
    "import time\n",
    "import datetime\n",
    "import pandas as pd\n",
    "import pickle\n",
    "\n",
    "\n",
    "from tqdm import tqdm\n",
    "from joblib import Parallel, delayed\n",
    "\n",
    "from multiprocessing.pool import ThreadPool\n",
    "\n",
    "\n",
    "import swifter\n",
    "import pymorphy3\n",
    "\n",
    "from selenium import webdriver"
   ]
  },
  {
   "cell_type": "markdown",
   "id": "a8bd5aa9",
   "metadata": {},
   "source": [
    "# На вход подается большой файл с леммами, на выход - обновленный файл с леммами"
   ]
  },
  {
   "cell_type": "code",
   "execution_count": 8,
   "id": "8ae1753c",
   "metadata": {},
   "outputs": [],
   "source": [
    "def tass_lenta(before, limit=200):\n",
    "    mainpage = 'http://tass.ru/api/news/lenta?limit='+str(limit)+'&before='+str(before)\n",
    "    response = requests.get(mainpage)\n",
    "    dic = response.json()\n",
    "    cur_news = [ ]\n",
    "    df = dic['articles']\n",
    "    for item in df:\n",
    "        try:\n",
    "            new = { }\n",
    "            new['title'] = item['title']\n",
    "            new['category'] = item['section']['title']\n",
    "            new['href'] = item['url']\n",
    "            new['date'] = datetime.datetime.fromtimestamp(int(item['time'])).strftime('%Y-%m-%d %H:%M:%S')\n",
    "            new['uci_time'] = int(item['time'])\n",
    "            cur_news.append(new)\n",
    "        except:\n",
    "            print('Error! \\n',item, '\\n')\n",
    "    return cur_news"
   ]
  },
  {
   "cell_type": "markdown",
   "id": "15880773",
   "metadata": {},
   "source": [
    "Выбор текущей даты и даты последнего обновления файла с новостями"
   ]
  },
  {
   "cell_type": "code",
   "execution_count": 3,
   "id": "e40aee5a",
   "metadata": {},
   "outputs": [],
   "source": [
    "# загружаем общий файл с лемматизированными новостями, вытащим из него последнюю дату\n",
    "date_list = []\n",
    "with open(\"tass/tass_lemmas/lemma_tass_v2.pickle\", \"rb\") as file:\n",
    "    while True:\n",
    "        try:\n",
    "            item=pickle.load(file)['date']\n",
    "            date_list.append(item)\n",
    "        except EOFError:\n",
    "            break"
   ]
  },
  {
   "cell_type": "code",
   "execution_count": 6,
   "id": "9f2dd8ed",
   "metadata": {},
   "outputs": [
    {
     "name": "stdout",
     "output_type": "stream",
     "text": [
      "Последняя записанная дата: 2024-07-02 18:10:17\n",
      "Временная метка последней записанной даты: 1719933017.0\n",
      "\n",
      "Сегодняшняя дата: 2024-07-12 13:51:04.625278\n",
      "Временная метка сегодняшней даты: 1720781464.625278\n"
     ]
    }
   ],
   "source": [
    "last_date = max(date_list)\n",
    "print(f'Последняя записанная дата: {last_date}')\n",
    "\n",
    "last_date_timest = datetime.datetime.strptime(last_date, '%Y-%m-%d %H:%M:%S').timestamp()\n",
    "print(f'Временная метка последней записанной даты: {last_date_timest}\\n')\n",
    "\n",
    "current_date = datetime.datetime.now()\n",
    "print(f'Сегодняшняя дата: {current_date}')\n",
    "\n",
    "print(f'Временная метка сегодняшней даты: {current_date.timestamp()}')"
   ]
  },
  {
   "cell_type": "code",
   "execution_count": 7,
   "id": "50327ea0",
   "metadata": {},
   "outputs": [
    {
     "data": {
      "text/plain": [
       "'http://tass.ru/api/news/lenta?limit=1720781464&before=1719933017'"
      ]
     },
     "execution_count": 7,
     "metadata": {},
     "output_type": "execute_result"
    }
   ],
   "source": [
    "limit = int(current_date.timestamp())\n",
    "before = int(last_date_timest)\n",
    "\n",
    "'http://tass.ru/api/news/lenta?limit='+str(limit)+'&before='+str(before)"
   ]
  },
  {
   "cell_type": "code",
   "execution_count": 8,
   "id": "0cfb81a6",
   "metadata": {},
   "outputs": [
    {
     "name": "stdout",
     "output_type": "stream",
     "text": [
      "46 2024-07-02 20:17:16\n"
     ]
    }
   ],
   "source": [
    "# создание json-файла, в который будут записываться необработанные новости\n",
    "for i in range(100000):\n",
    "    clear_output(wait=True)\n",
    "    current_news = tass_lenta(limit)\n",
    "    limit = current_news[-1]['uci_time']\n",
    "\n",
    "    with open('news_update.json', 'a') as outfile:\n",
    "        json.dump(current_news, outfile)\n",
    "        print(i, current_news[-1]['date'])\n",
    "        \n",
    "    if limit < pd.to_datetime(last_date).timestamp():    \n",
    "        break "
   ]
  },
  {
   "cell_type": "code",
   "execution_count": 10,
   "id": "7629632e",
   "metadata": {},
   "outputs": [
    {
     "name": "stdout",
     "output_type": "stream",
     "text": [
      "Количество новых новостей: 9400\n"
     ]
    }
   ],
   "source": [
    "with open('news_update.json') as json_file:\n",
    "    tass_news = json.loads(json_file.read().replace(\"][\", \",\"))\n",
    "print(f'Количество новых новостей: {len(tass_news)}')"
   ]
  },
  {
   "cell_type": "markdown",
   "id": "98cc24ce",
   "metadata": {},
   "source": [
    "Подсчет количества новых новостей по месяцам"
   ]
  },
  {
   "cell_type": "code",
   "execution_count": 11,
   "id": "f286a05b",
   "metadata": {},
   "outputs": [
    {
     "data": {
      "text/plain": [
       "2024-07-31    9400\n",
       "Freq: ME, Name: count, dtype: int64"
      ]
     },
     "execution_count": 11,
     "metadata": {},
     "output_type": "execute_result"
    }
   ],
   "source": [
    "test_d = [pd.to_datetime(i['date'][:10]) for i in tass_news]\n",
    "dts = pd.Series(test_d).sort_values()\n",
    "\n",
    "dts.value_counts().resample('ME').sum()"
   ]
  },
  {
   "cell_type": "code",
   "execution_count": 12,
   "id": "efa8a79d",
   "metadata": {},
   "outputs": [],
   "source": [
    "# категории, которые встретились в пуле новостей\n",
    "categories_add_json = set([i['category'] for i in tass_news])"
   ]
  },
  {
   "cell_type": "code",
   "execution_count": 13,
   "id": "c5177c7d",
   "metadata": {
    "scrolled": true
   },
   "outputs": [],
   "source": [
    "select_cat = [\n",
    "            #     '\"Дальневосточный гектар\"',\n",
    "             'Brexit',\n",
    "             'RIW 2015',\n",
    "             'Аналитика',\n",
    "             'Арктика',\n",
    "             'Армия и ОПК',\n",
    "             'Банк историй успеха',\n",
    "             'Без политики',\n",
    "             'Безопасная жизнь',\n",
    "             'Безопасность',\n",
    "             'Биографии и справки',\n",
    "             'Борьба с коррупцией',\n",
    "             'Будущее',\n",
    "             'В стране',\n",
    "             'ВЭФ-2015',\n",
    "             'ВЭФ-2016',\n",
    "             'ВЭФ-2017',\n",
    "            #  'Взрыв в Бангкоке',\n",
    "            #  'Взрыв в детском лагере в Подмосковье',\n",
    "             'Воздушно-космическая оборона',\n",
    "             'Вокруг Олимпиады в Сочи',\n",
    "             'Вооруженные силы',\n",
    "             'Вопрос-ответ',\n",
    "            #  'Вторая мировая война',\n",
    "             'Выбор редакции',\n",
    "             'Выборы депутатов Госдумы',\n",
    "             'Выборы-2016',\n",
    "            #  'Выставка Аero India-2015',\n",
    "             'Гайдаровский форум - 2016',\n",
    "            #  'ДТП с автобусом и поездом под Владимиром',\n",
    "            #  'ЕГЭ',\n",
    "             'Евразийская интеграция',\n",
    "             'Закон о банкротстве физлиц',\n",
    "            #  'Здоровье',\n",
    "             'Инвестфорум \"Сочи-2016\"',\n",
    "             'ИноТомск',\n",
    "             'Интервью Москва',\n",
    "            #  'КХЛ',\n",
    "             'Колебания курса рубля',\n",
    "             'Комментарии',\n",
    "             'Конференции с онлайн-трансляцией',\n",
    "             'Коррупционные скандалы',\n",
    "             'Космос',\n",
    "             'Кризис на Украине',\n",
    "             'Криминал',\n",
    "             'Кубок конфедераций-2017',\n",
    "            #  'Культура',\n",
    "             'Лесные пожары в России',\n",
    "            #  'Летние виды спорта',\n",
    "            #  'Личное время',\n",
    "            #  'Люди и вещи',\n",
    "             'Малый бизнес',\n",
    "             'Малый бизнес. Интервью',\n",
    "             'Малый бизнес. Репортажи',\n",
    "             'Международная панорама',\n",
    "            #  'Миграционный кризис в Европе',\n",
    "             'Мнения',\n",
    "             'Москва',\n",
    "             'Московская область',\n",
    "             'Наводнения в России',\n",
    "             'Наука',\n",
    "             'Научные новости',\n",
    "             'Научные технологии',\n",
    "            #  'Наши люди',\n",
    "            #  'Нештатный запуск \"Прогресса М-27М\"',\n",
    "             'Новости Архангельской области',\n",
    "             'Новости агентства',\n",
    "             'Новости партнеров',\n",
    "             'Новости форума',\n",
    "             'Образование',\n",
    "             'Общество',\n",
    "            #  'Олимпийские и Паралимпийские игры 2016 года',\n",
    "             'Опросы',\n",
    "            #  'Освоение Арктики',\n",
    "             'Отставки и назначения',\n",
    "             'ПМЭФ-2015',\n",
    "             'ПМЭФ-2016',\n",
    "             'ПМЭФ-2017',\n",
    "            #  'Память о Великой Отечественной войне',\n",
    "             'Политика',\n",
    "             'Происшествия',\n",
    "            #  'Протесты в Ереване',\n",
    "             'Прямая линия с президентом РФ',\n",
    "             'Развитие МСП в России',\n",
    "             'Развитие моногородов',\n",
    "            #  'Расследование крушения российского самолета в Египте',\n",
    "            #  'Религия',\n",
    "             'Саммит АТЭС - 2017',\n",
    "            #  'Сборные по футболу',\n",
    "             'Северо-Запад',\n",
    "             'Сибирь',\n",
    "            #  'Ситуация в Крыму',\n",
    "            #  'Ситуация вокруг Греции',\n",
    "            #  'Ситуация вокруг ядерной программы Ирана',\n",
    "            #  'Сотрудничество в рамках СНГ',\n",
    "             'Социальное страхование',\n",
    "            #  'Спорт',\n",
    "            #  'Стихийные бедствия',\n",
    "            #  'ТАСС-ДОСЬЕ / Биографии',\n",
    "             'ТЭК',\n",
    "             'Технологии',\n",
    "             'Транспорт',\n",
    "            #  'Туризм в России',\n",
    "            #  'Туризм и отдых',\n",
    "             'Форум в Давосе',\n",
    "            #  'Футбол',\n",
    "            #  'Хоккей',\n",
    "             'Цифровая экономика',\n",
    "            #  'ЧП с малайзийским самолетом Airbus',\n",
    "            #  'Чемпионат WorldSkills',\n",
    "             'ШОС',\n",
    "            #  'Экология',\n",
    "             'Экономика и бизнес',\n",
    "                '\"Технопром – 2019\"',\n",
    "                #  '300-летие Перми',\n",
    "                #  '75-летие Победы',\n",
    "                 'Cаммит G20',\n",
    "                #  'VII Санкт-Петербургский международный культурный форум',\n",
    "                #  'XXXII летние Олимпийские игры',\n",
    "                 'Автомобили',\n",
    "                 'АПК',\n",
    "                #  'Автоспорт',\n",
    "                #  'Акции протеста в Иране',\n",
    "                #  'Акции протеста во Франции',\n",
    "                #  'Акции протеста на Кубе',\n",
    "                #  'Атака на гостиничный комплекс в Найроби',\n",
    "                 'БРИКС',\n",
    "                #  'Берлинский кинофестиваль',\n",
    "                #  'Беспорядки в Бразилии',\n",
    "                #  'Блокада Ленинграда',\n",
    "                #  'Бокс',\n",
    "                 'Борьба с изменениями климата',\n",
    "                 'В мире',\n",
    "                 'ВЭФ-2018',\n",
    "                 'ВЭФ-2019',\n",
    "                #  'Вакцинация от коронавируса в России',\n",
    "                #  'Взрыв газа в Новосибирске',\n",
    "                #  'Взрыв газа в жилом доме в Ельце',\n",
    "                #  'Визит Нэнси Пелоси на Тайвань',\n",
    "                 'Внешняя политика',\n",
    "                 'Внутренняя политика',\n",
    "                #  'Военная операция США в Сирии',\n",
    "                 'Военная операция на Украине',\n",
    "                 'Восточный экономический форум',\n",
    "                #  'Всероссийские учения энергетиков в Дагестане',\n",
    "                #  'Встреча Путина и Байдена в Женеве',\n",
    "                #  'Вторая мировая война',\n",
    "                #  'Выборы в ДНР и ЛНР',\n",
    "                #  'Выборы президента США - 2020',\n",
    "                #  'Дела в отношении экс-министра Михаила Абызова',\n",
    "                #  'Дело Виктора Бута',\n",
    "                #  'Дело Дональда Трампа',\n",
    "                #  'Дело Кирилла Вышинского',\n",
    "                #  'Дело Кирилла Серебренникова',\n",
    "                #  'Дело Эдварда Сноудена',\n",
    "                #  'Дело в отношении Кокорина и Мамаева',\n",
    "                #  'Дело в отношении Сергея Фургала',\n",
    "                #  'Дело летчика Ярошенко',\n",
    "                #  'Дело полковника Захарченко',\n",
    "                #  'День Победы',\n",
    "                 'Динамика ключевой ставки Центробанка',\n",
    "                #  'Допинг в спорте',\n",
    "                 'Единый день голосования',\n",
    "                #  'Жилье и городская среда',\n",
    "                #  'Задержание Саакашвили в Грузии',\n",
    "                #  'Задержание финансового директора Huawei',\n",
    "                #  'Здоровье',\n",
    "                #  'Здравоохранение',\n",
    "                #  'Землетрясение и цунами в Индонезии',\n",
    "                #  'Землетрясения в Турции и Сирии',\n",
    "                #  'Зимние виды спорта',\n",
    "                 'ИННОПРОМ-2018',\n",
    "                #  'Инцидент с британским эсминцем в Черном море',\n",
    "                #  'Инциденты с подозрительными посылками в США',\n",
    "                #  'Искусство',\n",
    "                #  'Каннский кинофестиваль',\n",
    "                #  'Каннский фестиваль',\n",
    "                #  'Катастрофа Boeing-737 под Тегераном',\n",
    "                 'Кибербезопасность',\n",
    "                #  'Кино',\n",
    "                #  'Крушение самолета Bek Air в Казахстане',\n",
    "                 'Кузбасс',\n",
    "                #  'Культура',\n",
    "                #  'Лесные пожары в Калифорнии',\n",
    "                #  'Литература',\n",
    "                #  'Личное время',\n",
    "                #  'Люди и вещи',\n",
    "                 'Макроэкономика',\n",
    "                 'Малое и среднее предпринимательство',\n",
    "                 'Медицина',\n",
    "                 'Международный опыт',\n",
    "                #  'Московская конференция по безопасности',\n",
    "                #  'Московский кинофестиваль ',\n",
    "                #  'Музыка',\n",
    "                #  'НХЛ',\n",
    "                 'Национальные проекты',\n",
    "                 'Нацпроект \"Наука и университеты\"',\n",
    "                 'Нацпроект \"Экология\"',\n",
    "                #  'Наши люди',\n",
    "                 'Недвижимость',\n",
    "                 'Нижегородская область',\n",
    "                 'Нобелевская премия - 2019',\n",
    "                 'Новая система обращения с ТКО',\n",
    "                 'Новости Урала',\n",
    "                 'Новостные разделы',\n",
    "                 'Новый год и Рождество - 2021',\n",
    "                 'Оборонно-промышленный комплекс',\n",
    "                #  'Обострение конфликта на киргизско-таджикской границе',\n",
    "                #  'Обострение на границе Армении и Азербайджана',\n",
    "                #  'Обрушение перекрытий в университете в Петербурге',\n",
    "                #  'Обрушение эскалатора на станции метро в Риме',\n",
    "                #  'Олимпиада-2018',\n",
    "                #  'Олимпиада-2022 в Пекине',\n",
    "                 'Опросы общественного мнения',\n",
    "                #  'Освоение Арктики',\n",
    "                 'Отношения России и НАТО',\n",
    "                #  'Отставка президента Перу',\n",
    "                 'ПМЭФ ',\n",
    "                 'ПМЭФ-2018',\n",
    "                 'ПМЭФ-2022',\n",
    "                #  'Палестино-израильский конфликт',\n",
    "                #  'Пандемия COVID-19',\n",
    "                #  'Пенсионный закон',\n",
    "                 'Первые лица',\n",
    "                 'Первые лица бизнеса',\n",
    "                 'Первые лица российских регионов',\n",
    "                #  'Переговоры Путина и Байдена',\n",
    "                 'Переговоры России и США по гарантиям безопасности',\n",
    "                #  'Подкасты',\n",
    "                #  'Подписание договоров о вхождении в РФ новых субъектов',\n",
    "                #  'Политический кризис в Абхазии',\n",
    "                #  'Политический кризис в Венесуэле',\n",
    "                #  'Политический кризис в Молдавии',\n",
    "                #  'Православная Пасха',\n",
    "                #  'Президентские выборы в США',\n",
    "                #  'Президентские выборы во Франции',\n",
    "                #  'Провозглашение независимости Каталонии',\n",
    "                #  'Промежуточные выборы в Конгресс США',\n",
    "                 'Промышленность',\n",
    "                #  'Протесты в Казахстане',\n",
    "                #  'Противодействие терроризму в России',\n",
    "                #  'Процедура импичмента Трампа',\n",
    "                #  'Расследование крушения Boeing в Донецкой области',\n",
    "                #  'Религия',\n",
    "                 'Репортаж',\n",
    "                 'Российский инвестиционный форум - 2018',\n",
    "                 'Российский инвестиционный форум - 2019',\n",
    "                 'Саммит \"нормандской четверки\" в Париже',\n",
    "                 'Саммит Россия – Африка',\n",
    "                 'Санкции в отношении России',\n",
    "                 'Северный Кавказ',\n",
    "                 'Ситуация в зоне нагорнокарабахского конфликта',\n",
    "                 'Ситуация вокруг Промсвязьбанка',\n",
    "                 'Ситуация вокруг экстренной посадки самолета Ryanair в Минске',\n",
    "                 'Ситуация вокруг ядерной программы Ирана',\n",
    "                 'Ситуация на Корейском полуострове',\n",
    "                #  'Ситуация с мигрантами на границе Польши и Белоруссии',\n",
    "                 'Ситуация с поставками энергоносителей из РФ в Европу',\n",
    "                #  'Смена власти в Афганистане',\n",
    "                 'Соглашение о продлении ДСНВ',\n",
    "                #  'Создание Автокефальной поместной православной церкви на Украине',\n",
    "                 'Социальная защита',\n",
    "                #  'Спорт',\n",
    "                #  'Стихийные бедствия',\n",
    "                #  'Столкновения в Судане',\n",
    "                #  'Стрельба в США',\n",
    "                #  'Театр',\n",
    "                #  'Туризм в России',\n",
    "                #  'Туризм и отдых',\n",
    "                #  'Умер Леонид Куравлев',\n",
    "                #  'Умер Николай Добронравов',\n",
    "                #  'Фигурное катание',\n",
    "                #  'Фрагменты новых книг',\n",
    "                #  'Футбол',\n",
    "                #  'Хоккей',\n",
    "                #  'ЧМ-2018 по футболу',\n",
    "                #  'Чемпионат WorldSkills',\n",
    "                #  'Экология',\n",
    "                'Электроэнергетика',\n",
    "                'Эскалация в Косове',\n",
    "                'Авиационные системы',\n",
    "                'Визит Владимира Путина в Китай',\n",
    "                'Инаугурация президента РФ',\n",
    "                'Обострение ситуации между Израилем и Ираном',\n",
    "]"
   ]
  },
  {
   "cell_type": "code",
   "execution_count": 14,
   "id": "4ffff88f",
   "metadata": {},
   "outputs": [
    {
     "data": {
      "text/plain": [
       "{'Дело Ассанжа и WikiLeaks',\n",
       " 'Культура',\n",
       " 'Президентские выборы в США',\n",
       " 'Протесты в Кении',\n",
       " 'Спорт'}"
      ]
     },
     "execution_count": 14,
     "metadata": {},
     "output_type": "execute_result"
    }
   ],
   "source": [
    "# новые категории\n",
    "categories_add_json - set(select_cat)"
   ]
  },
  {
   "cell_type": "markdown",
   "id": "c7112f64",
   "metadata": {},
   "source": [
    "# 1. Загрузка новостей"
   ]
  },
  {
   "cell_type": "code",
   "execution_count": 13,
   "id": "55b7fd3a",
   "metadata": {},
   "outputs": [],
   "source": [
    "def page_content(url):\n",
    "    time.sleep(0.63)\n",
    "    response = requests.get(url, timeout=20)\n",
    "    html = response.content\n",
    "    soup = BeautifulSoup(html,\"lxml\")\n",
    "    \n",
    "    try_1 = soup.find_all(\"div\", {\"class\": \"NewsHeader_lead__6Z9If\"})\n",
    "    if len(try_1) != 0:\n",
    "        snippet = try_1[0].text\n",
    "        all_par = soup.find(\"article\").find_all(\"p\")\n",
    "        text = ' '.join([i.text for i in all_par])\n",
    "    \n",
    "    elif len(soup.find_all(\"div\", {\"class\": \"news-header\"})) != 0:\n",
    "        snippet =soup.find_all(\"div\", {\"class\": \"news-header\"})[0].text\n",
    "        text = soup.find(\"div\", {'class':'text-content'}).text\n",
    "        \n",
    "    elif len(soup.find_all(\"h1\", {\"class\": re.compile(r'tass_pkg_title.+')}))!=0:\n",
    "        snippet = soup.find_all(\"h1\", {\"class\": re.compile(r'tass_pkg_title.+')})[0].text.strip()\n",
    "        all_par = soup.find(\"article\").find_all(\"p\")\n",
    "        text = ' '.join([i.text for i in all_par])\n",
    "\n",
    "    else:\n",
    "        snippet = soup.find_all(\"div\", {\"class\": re.compile(r'.+Header_wrapper.+')})[0].text\n",
    "        all_par = soup.find(\"article\").find_all(\"p\")\n",
    "        text = ' '.join([i.text for i in all_par])\n",
    "        \n",
    "        \n",
    "    return text, snippet"
   ]
  },
  {
   "cell_type": "code",
   "execution_count": 14,
   "id": "04368d7e",
   "metadata": {},
   "outputs": [],
   "source": [
    "def get_tass_news(item_from_vect, pt):\n",
    "    url = \"http://tass.ru\" + item_from_vect['href']\n",
    "    try:\n",
    "        text, snippet = page_content(url)\n",
    "        item_from_vect['text'] = text.strip()\n",
    "        item_from_vect['snippet'] = snippet.strip()\n",
    "        \n",
    "        on_tdf = pd.DataFrame([item_from_vect])\n",
    "        on_tdf[['date', 'category', 'title', 'text', 'href']].to_csv(f'tass/tass_texts{pt}.csv',\n",
    "                                                              mode='a', header=False, index=None)\n",
    "\n",
    "    except: \n",
    "        on_tdf = pd.DataFrame([item_from_vect])\n",
    "        on_tdf[['date', 'category', 'title', 'href']].to_csv(f'tass/skip_urls_v1.csv',\n",
    "                                                              mode='a', header=False, index=None)\n",
    "        print(url)\n",
    "        return{ }"
   ]
  },
  {
   "cell_type": "code",
   "execution_count": 15,
   "id": "4f494405",
   "metadata": {},
   "outputs": [],
   "source": [
    "def Separator(vect, part):\n",
    "    n = len(vect)\n",
    "    vec_parts = [round(n/part)*i for i in range(part)]\n",
    "    vec_parts.append(n)\n",
    "    out = [[str(i), vect[vec_parts[i]:vec_parts[i+1]]] for i in range(part)]\n",
    "    return(out)\n",
    "\n",
    "def Map(vect, parser_function):\n",
    "    for i, item in enumerate(vect[1]):\n",
    "        clear_output(wait=True)\n",
    "        print(f'{vect[0]}:{i}/{len(vect[1])}')\n",
    "        parser_function(item, vect[0])\n",
    "\n",
    "def MRDownloader(what, parts, parser_function):\n",
    "    separatorlist = Separator(what, parts)\n",
    "    def Mp(what):\n",
    "        return Map(what, parser_function=parser_function)\n",
    "    pool = ThreadPool(parts)\n",
    "    l = pool.map(Mp, separatorlist)"
   ]
  },
  {
   "cell_type": "code",
   "execution_count": 16,
   "id": "071276a3",
   "metadata": {},
   "outputs": [
    {
     "name": "stdout",
     "output_type": "stream",
     "text": [
      "6:626/627\n"
     ]
    }
   ],
   "source": [
    "separatorlist = Separator(tass_news, 15)\n",
    "\n",
    "len(separatorlist), len(separatorlist[0]), len(separatorlist[0][1])\n",
    "\n",
    "MRDownloader(tass_news, 15, parser_function=get_tass_news)"
   ]
  },
  {
   "cell_type": "markdown",
   "id": "7c9e32d5",
   "metadata": {},
   "source": [
    "Пропущенные ссылки"
   ]
  },
  {
   "cell_type": "code",
   "execution_count": 17,
   "id": "fc53ba7a",
   "metadata": {},
   "outputs": [],
   "source": [
    "skip_ref = pd.read_csv('tass/skip_urls_v1.csv', header=None)\n",
    "skip_ref.columns = ['date', 'category', 'title', 'href']\n",
    "skip_ref = skip_ref.drop_duplicates(subset=['title', 'href'])"
   ]
  },
  {
   "cell_type": "code",
   "execution_count": 18,
   "id": "ceb0fecd",
   "metadata": {},
   "outputs": [
    {
     "name": "stdout",
     "output_type": "stream",
     "text": [
      "Количество обработанных новостей: 9257\n",
      "Количество пропущенных новостей: 143\n"
     ]
    }
   ],
   "source": [
    "exsist_ref = []\n",
    "df_tab = []\n",
    "for i in range (15):\n",
    "    df_temp = pd.read_csv(f'tass/tass_texts{i}.csv', header=None) \n",
    "    df_tab.append(df_temp)\n",
    "    exsist_ref.append(df_temp[4].values)\n",
    "    \n",
    "exsist_ref = sum([list(i) for i in exsist_ref],[])\n",
    "\n",
    "print(f'Количество обработанных новостей: {len(exsist_ref)}')   \n",
    "tass_news = [i for i in tass_news if i['href'] not in exsist_ref]\n",
    "print(f'Количество пропущенных новостей: {len(tass_news)}')"
   ]
  },
  {
   "cell_type": "markdown",
   "id": "1224e89e",
   "metadata": {},
   "source": [
    "# 2. Обработка пропущенных новостей"
   ]
  },
  {
   "cell_type": "markdown",
   "id": "909e45b9",
   "metadata": {},
   "source": [
    "на вход подается csv-файл с пропущенными ссылками (полученный ранее skip_urls_v1.csv), на выход - tass_texts16.csv"
   ]
  },
  {
   "cell_type": "code",
   "execution_count": 3,
   "id": "00c4a6ce",
   "metadata": {},
   "outputs": [],
   "source": [
    "cService = webdriver.ChromeService(executable_path='C:\\\\Users\\\\Дяна\\\\OneDrive\\\\Рабочий стол\\\\lab\\\\parse_unparsed\\\\chromedriver.exe')\n",
    "driver = webdriver.Chrome(service = cService)\n",
    "\n",
    "\n",
    "def content_driver(url):  \n",
    "    driver.get(url)\n",
    "    time.sleep(2)\n",
    "    soup = BeautifulSoup(driver.page_source, 'lxml')\n",
    "    \n",
    "    if len(soup.find_all('h1', {'class': 'explainer__title'})) != 0:        \n",
    "        title = soup.find('h1', {'class': 'explainer__title-wrap'}).text\n",
    "        text = soup.find('div', {'class': re.compile('text-content.+')}).find_all('p')\n",
    "        text = ' '.join([i.text for i in text]) \n",
    "        text = text.replace('\\xa0', '')\n",
    "    \n",
    "\n",
    "    elif len(soup.find_all('h1', {'class': 'news-header__title'})) != 0:\n",
    "        title = soup.find_all('h1', {'class': 'news-header__title'})[0].text     \n",
    "        text = soup.find_all(\"div\", {\"class\": \"text-block\"})[0].find_all(\"p\")\n",
    "        text = ' '.join([i.text for i in text])\n",
    "    \n",
    "    \n",
    "    else:\n",
    "        title = soup.find_all('h1', {'class': 'article__title-wrap'})[0].text\n",
    "        text = soup.find_all('div', {'class': re.compile('text-content.+')})[0] \n",
    "        text = ' '.join([i.text for i in text])\n",
    "        text = text.replace('\\xa0', ' ')\n",
    "        text = text.replace('\\n', ' ')\n",
    "    \n",
    "    \n",
    "    return text, title"
   ]
  },
  {
   "cell_type": "code",
   "execution_count": 4,
   "id": "bc62a359",
   "metadata": {},
   "outputs": [],
   "source": [
    "def for_missing(skipped_urls_csv):\n",
    "    file = pd.read_csv(skipped_urls_csv, names = ['date', 'category', 'title', 'href', 'text'], header=None)\n",
    "    \n",
    "    for idx, row in file.iterrows():\n",
    "        try:\n",
    "            url = 'http://tass.ru' + str(file['href'][idx])     \n",
    "            file['text'][idx] = str(content_driver(url)[0])\n",
    "            pd.DataFrame([file.loc[idx, :]])[['date', 'category', 'title', 'text', 'href']].to_csv('tass/tass_texts15.csv', mode = 'a', \n",
    "                                                                                                   index=None, header=None)\n",
    "        except:\n",
    "            pd.DataFrame([file.loc[idx, :]])[['date', 'category', 'title', 'href']].to_csv('tass/still_skipped.csv', mode = 'a', \n",
    "                                                                                           index=None, header=None)"
   ]
  },
  {
   "cell_type": "code",
   "execution_count": 5,
   "id": "44216318",
   "metadata": {},
   "outputs": [
    {
     "name": "stderr",
     "output_type": "stream",
     "text": [
      "C:\\Users\\Дяна\\AppData\\Local\\Temp\\ipykernel_5000\\3704882431.py:7: SettingWithCopyWarning: \n",
      "A value is trying to be set on a copy of a slice from a DataFrame\n",
      "\n",
      "See the caveats in the documentation: https://pandas.pydata.org/pandas-docs/stable/user_guide/indexing.html#returning-a-view-versus-a-copy\n",
      "  file['text'][idx] = str(content_driver(url)[0])\n"
     ]
    }
   ],
   "source": [
    "for_missing('tass/skip_urls_v1.csv')"
   ]
  },
  {
   "cell_type": "code",
   "execution_count": 6,
   "id": "3b032a9b",
   "metadata": {},
   "outputs": [
    {
     "name": "stdout",
     "output_type": "stream",
     "text": [
      "Дополнительно обработано новостей: 131\n",
      "Итоговое число пропущенных новостей: 10\n"
     ]
    }
   ],
   "source": [
    "print(f'Дополнительно обработано новостей: {pd.read_csv(\"tass/tass_texts15.csv\", header=None).shape[0]}')\n",
    "print(f'Итоговое число пропущенных новостей: {pd.read_csv(\"tass/still_skipped.csv\", header=None).shape[0]}')"
   ]
  },
  {
   "cell_type": "markdown",
   "id": "79477747",
   "metadata": {},
   "source": [
    "# 3. Предобработка текстов"
   ]
  },
  {
   "cell_type": "code",
   "execution_count": 19,
   "id": "86984e7d",
   "metadata": {},
   "outputs": [],
   "source": [
    "m = pymorphy3.MorphAnalyzer()\n",
    "\n",
    "def pymorphy_lemma(text='The text must be passed to the function as a string!'):\n",
    "    text = re.sub(r'[^а-яёА-Я]+', ' ', text)\n",
    "    tokens = text.lower().split()   \n",
    "    lemmas = []\n",
    "    \n",
    "    for word in tokens:\n",
    "        try:\n",
    "            lemma = m.parse(word)[0].normal_form\n",
    "            lemmas.append(lemma)\n",
    "        except:\n",
    "            continue\n",
    "    return ', '.join(lemmas)"
   ]
  },
  {
   "cell_type": "code",
   "execution_count": 20,
   "id": "86901ec9",
   "metadata": {
    "scrolled": true
   },
   "outputs": [
    {
     "data": {
      "application/vnd.jupyter.widget-view+json": {
       "model_id": "6e18e5ee38dd4a17b0d514031fd1c5e9",
       "version_major": 2,
       "version_minor": 0
      },
      "text/plain": [
       "Pandas Apply:   0%|          | 0/622 [00:00<?, ?it/s]"
      ]
     },
     "metadata": {},
     "output_type": "display_data"
    },
    {
     "data": {
      "application/vnd.jupyter.widget-view+json": {
       "model_id": "39cb1923ca104a9daadcb9369fefd212",
       "version_major": 2,
       "version_minor": 0
      },
      "text/plain": [
       "Pandas Apply:   0%|          | 0/622 [00:00<?, ?it/s]"
      ]
     },
     "metadata": {},
     "output_type": "display_data"
    },
    {
     "name": "stderr",
     "output_type": "stream",
     "text": [
      "100%|████████████████████████████████████████████████████████████████████████████████| 622/622 [00:59<00:00, 10.43it/s]\n"
     ]
    },
    {
     "data": {
      "application/vnd.jupyter.widget-view+json": {
       "model_id": "296be9ff7c3b4bb2a97367c22eebf9c1",
       "version_major": 2,
       "version_minor": 0
      },
      "text/plain": [
       "Pandas Apply:   0%|          | 0/610 [00:00<?, ?it/s]"
      ]
     },
     "metadata": {},
     "output_type": "display_data"
    },
    {
     "data": {
      "application/vnd.jupyter.widget-view+json": {
       "model_id": "6c7fc5a44db24796b77f6b95ecb21120",
       "version_major": 2,
       "version_minor": 0
      },
      "text/plain": [
       "Pandas Apply:   0%|          | 0/610 [00:00<?, ?it/s]"
      ]
     },
     "metadata": {},
     "output_type": "display_data"
    },
    {
     "name": "stderr",
     "output_type": "stream",
     "text": [
      "100%|████████████████████████████████████████████████████████████████████████████████| 610/610 [00:41<00:00, 14.57it/s]\n"
     ]
    },
    {
     "data": {
      "application/vnd.jupyter.widget-view+json": {
       "model_id": "90db28c710c24861adace14b645d851c",
       "version_major": 2,
       "version_minor": 0
      },
      "text/plain": [
       "Pandas Apply:   0%|          | 0/618 [00:00<?, ?it/s]"
      ]
     },
     "metadata": {},
     "output_type": "display_data"
    },
    {
     "data": {
      "application/vnd.jupyter.widget-view+json": {
       "model_id": "30c397a4181641b69a94265fcb81554b",
       "version_major": 2,
       "version_minor": 0
      },
      "text/plain": [
       "Pandas Apply:   0%|          | 0/618 [00:00<?, ?it/s]"
      ]
     },
     "metadata": {},
     "output_type": "display_data"
    },
    {
     "name": "stderr",
     "output_type": "stream",
     "text": [
      "100%|████████████████████████████████████████████████████████████████████████████████| 618/618 [00:39<00:00, 15.81it/s]\n"
     ]
    },
    {
     "data": {
      "application/vnd.jupyter.widget-view+json": {
       "model_id": "1c20301001694bd4a006cd5f07f0a1dc",
       "version_major": 2,
       "version_minor": 0
      },
      "text/plain": [
       "Pandas Apply:   0%|          | 0/618 [00:00<?, ?it/s]"
      ]
     },
     "metadata": {},
     "output_type": "display_data"
    },
    {
     "data": {
      "application/vnd.jupyter.widget-view+json": {
       "model_id": "8c3dd51f0a8a4ecb96de984188585203",
       "version_major": 2,
       "version_minor": 0
      },
      "text/plain": [
       "Pandas Apply:   0%|          | 0/618 [00:00<?, ?it/s]"
      ]
     },
     "metadata": {},
     "output_type": "display_data"
    },
    {
     "name": "stderr",
     "output_type": "stream",
     "text": [
      "100%|████████████████████████████████████████████████████████████████████████████████| 618/618 [00:38<00:00, 16.02it/s]\n"
     ]
    },
    {
     "data": {
      "application/vnd.jupyter.widget-view+json": {
       "model_id": "ea04cf7a9acf4f3081b81157ea0356b6",
       "version_major": 2,
       "version_minor": 0
      },
      "text/plain": [
       "Pandas Apply:   0%|          | 0/615 [00:00<?, ?it/s]"
      ]
     },
     "metadata": {},
     "output_type": "display_data"
    },
    {
     "data": {
      "application/vnd.jupyter.widget-view+json": {
       "model_id": "e55e4d0c80904eaf87d2bb845008ea70",
       "version_major": 2,
       "version_minor": 0
      },
      "text/plain": [
       "Pandas Apply:   0%|          | 0/615 [00:00<?, ?it/s]"
      ]
     },
     "metadata": {},
     "output_type": "display_data"
    },
    {
     "name": "stderr",
     "output_type": "stream",
     "text": [
      "100%|████████████████████████████████████████████████████████████████████████████████| 615/615 [00:37<00:00, 16.38it/s]\n"
     ]
    },
    {
     "data": {
      "application/vnd.jupyter.widget-view+json": {
       "model_id": "b7d9f98dcb444be9aa536f998e7b622e",
       "version_major": 2,
       "version_minor": 0
      },
      "text/plain": [
       "Pandas Apply:   0%|          | 0/614 [00:00<?, ?it/s]"
      ]
     },
     "metadata": {},
     "output_type": "display_data"
    },
    {
     "data": {
      "application/vnd.jupyter.widget-view+json": {
       "model_id": "ffe7d47b68854c6a9d62db283ad0714f",
       "version_major": 2,
       "version_minor": 0
      },
      "text/plain": [
       "Pandas Apply:   0%|          | 0/614 [00:00<?, ?it/s]"
      ]
     },
     "metadata": {},
     "output_type": "display_data"
    },
    {
     "name": "stderr",
     "output_type": "stream",
     "text": [
      "100%|████████████████████████████████████████████████████████████████████████████████| 614/614 [00:37<00:00, 16.55it/s]\n"
     ]
    },
    {
     "data": {
      "application/vnd.jupyter.widget-view+json": {
       "model_id": "d4550e13b337480091ce2dc724e1418a",
       "version_major": 2,
       "version_minor": 0
      },
      "text/plain": [
       "Pandas Apply:   0%|          | 0/620 [00:00<?, ?it/s]"
      ]
     },
     "metadata": {},
     "output_type": "display_data"
    },
    {
     "data": {
      "application/vnd.jupyter.widget-view+json": {
       "model_id": "f422b84ef6ac4c569cfc8297c3ee80d0",
       "version_major": 2,
       "version_minor": 0
      },
      "text/plain": [
       "Pandas Apply:   0%|          | 0/620 [00:00<?, ?it/s]"
      ]
     },
     "metadata": {},
     "output_type": "display_data"
    },
    {
     "name": "stderr",
     "output_type": "stream",
     "text": [
      "100%|████████████████████████████████████████████████████████████████████████████████| 620/620 [00:37<00:00, 16.49it/s]\n"
     ]
    },
    {
     "data": {
      "application/vnd.jupyter.widget-view+json": {
       "model_id": "eabe223c336d46898812226151665a4f",
       "version_major": 2,
       "version_minor": 0
      },
      "text/plain": [
       "Pandas Apply:   0%|          | 0/617 [00:00<?, ?it/s]"
      ]
     },
     "metadata": {},
     "output_type": "display_data"
    },
    {
     "data": {
      "application/vnd.jupyter.widget-view+json": {
       "model_id": "f241b80b67994a4eb54d99c914a9cb5b",
       "version_major": 2,
       "version_minor": 0
      },
      "text/plain": [
       "Pandas Apply:   0%|          | 0/617 [00:00<?, ?it/s]"
      ]
     },
     "metadata": {},
     "output_type": "display_data"
    },
    {
     "name": "stderr",
     "output_type": "stream",
     "text": [
      "100%|████████████████████████████████████████████████████████████████████████████████| 617/617 [00:36<00:00, 16.97it/s]\n"
     ]
    },
    {
     "data": {
      "application/vnd.jupyter.widget-view+json": {
       "model_id": "bc94695cb8e84f7cbbf008796903c2f7",
       "version_major": 2,
       "version_minor": 0
      },
      "text/plain": [
       "Pandas Apply:   0%|          | 0/624 [00:00<?, ?it/s]"
      ]
     },
     "metadata": {},
     "output_type": "display_data"
    },
    {
     "data": {
      "application/vnd.jupyter.widget-view+json": {
       "model_id": "0b82627880ea4fa6b71336660530de5b",
       "version_major": 2,
       "version_minor": 0
      },
      "text/plain": [
       "Pandas Apply:   0%|          | 0/624 [00:00<?, ?it/s]"
      ]
     },
     "metadata": {},
     "output_type": "display_data"
    },
    {
     "name": "stderr",
     "output_type": "stream",
     "text": [
      "100%|████████████████████████████████████████████████████████████████████████████████| 624/624 [00:33<00:00, 18.51it/s]\n"
     ]
    },
    {
     "data": {
      "application/vnd.jupyter.widget-view+json": {
       "model_id": "8cade77ab3cf47ac93f78bf052ba66bd",
       "version_major": 2,
       "version_minor": 0
      },
      "text/plain": [
       "Pandas Apply:   0%|          | 0/614 [00:00<?, ?it/s]"
      ]
     },
     "metadata": {},
     "output_type": "display_data"
    },
    {
     "data": {
      "application/vnd.jupyter.widget-view+json": {
       "model_id": "883531f945cd443f903a7c72b45318d6",
       "version_major": 2,
       "version_minor": 0
      },
      "text/plain": [
       "Pandas Apply:   0%|          | 0/614 [00:00<?, ?it/s]"
      ]
     },
     "metadata": {},
     "output_type": "display_data"
    },
    {
     "name": "stderr",
     "output_type": "stream",
     "text": [
      "100%|████████████████████████████████████████████████████████████████████████████████| 614/614 [00:37<00:00, 16.40it/s]\n"
     ]
    },
    {
     "data": {
      "application/vnd.jupyter.widget-view+json": {
       "model_id": "51581908685f4bd19592709ccbb0f425",
       "version_major": 2,
       "version_minor": 0
      },
      "text/plain": [
       "Pandas Apply:   0%|          | 0/621 [00:00<?, ?it/s]"
      ]
     },
     "metadata": {},
     "output_type": "display_data"
    },
    {
     "data": {
      "application/vnd.jupyter.widget-view+json": {
       "model_id": "cc16fd3f94d44149b8f262ad314a3554",
       "version_major": 2,
       "version_minor": 0
      },
      "text/plain": [
       "Pandas Apply:   0%|          | 0/621 [00:00<?, ?it/s]"
      ]
     },
     "metadata": {},
     "output_type": "display_data"
    },
    {
     "name": "stderr",
     "output_type": "stream",
     "text": [
      "100%|████████████████████████████████████████████████████████████████████████████████| 621/621 [00:35<00:00, 17.60it/s]\n"
     ]
    },
    {
     "data": {
      "application/vnd.jupyter.widget-view+json": {
       "model_id": "2f23bd6c69d54013a031e9929ddb0cc4",
       "version_major": 2,
       "version_minor": 0
      },
      "text/plain": [
       "Pandas Apply:   0%|          | 0/618 [00:00<?, ?it/s]"
      ]
     },
     "metadata": {},
     "output_type": "display_data"
    },
    {
     "data": {
      "application/vnd.jupyter.widget-view+json": {
       "model_id": "7bcb31955dc744bea3f6d62a4e650d74",
       "version_major": 2,
       "version_minor": 0
      },
      "text/plain": [
       "Pandas Apply:   0%|          | 0/618 [00:00<?, ?it/s]"
      ]
     },
     "metadata": {},
     "output_type": "display_data"
    },
    {
     "name": "stderr",
     "output_type": "stream",
     "text": [
      "100%|████████████████████████████████████████████████████████████████████████████████| 618/618 [00:35<00:00, 17.63it/s]\n"
     ]
    },
    {
     "data": {
      "application/vnd.jupyter.widget-view+json": {
       "model_id": "67906fd2bcbe4921a02a50a8770dfb8d",
       "version_major": 2,
       "version_minor": 0
      },
      "text/plain": [
       "Pandas Apply:   0%|          | 0/620 [00:00<?, ?it/s]"
      ]
     },
     "metadata": {},
     "output_type": "display_data"
    },
    {
     "data": {
      "application/vnd.jupyter.widget-view+json": {
       "model_id": "79108c318076478d8d0e3303dc417c3e",
       "version_major": 2,
       "version_minor": 0
      },
      "text/plain": [
       "Pandas Apply:   0%|          | 0/620 [00:00<?, ?it/s]"
      ]
     },
     "metadata": {},
     "output_type": "display_data"
    },
    {
     "name": "stderr",
     "output_type": "stream",
     "text": [
      "100%|████████████████████████████████████████████████████████████████████████████████| 620/620 [00:35<00:00, 17.35it/s]\n"
     ]
    },
    {
     "data": {
      "application/vnd.jupyter.widget-view+json": {
       "model_id": "3690b491bfa244f88ae0bea9b992fe6b",
       "version_major": 2,
       "version_minor": 0
      },
      "text/plain": [
       "Pandas Apply:   0%|          | 0/614 [00:00<?, ?it/s]"
      ]
     },
     "metadata": {},
     "output_type": "display_data"
    },
    {
     "data": {
      "application/vnd.jupyter.widget-view+json": {
       "model_id": "3d619b8cdc3f460c9e3e6e1122ce5ae3",
       "version_major": 2,
       "version_minor": 0
      },
      "text/plain": [
       "Pandas Apply:   0%|          | 0/614 [00:00<?, ?it/s]"
      ]
     },
     "metadata": {},
     "output_type": "display_data"
    },
    {
     "name": "stderr",
     "output_type": "stream",
     "text": [
      "100%|████████████████████████████████████████████████████████████████████████████████| 614/614 [00:35<00:00, 17.43it/s]\n"
     ]
    },
    {
     "data": {
      "application/vnd.jupyter.widget-view+json": {
       "model_id": "1108c9ed1d4b483498b3da04d7b85ead",
       "version_major": 2,
       "version_minor": 0
      },
      "text/plain": [
       "Pandas Apply:   0%|          | 0/611 [00:00<?, ?it/s]"
      ]
     },
     "metadata": {},
     "output_type": "display_data"
    },
    {
     "data": {
      "application/vnd.jupyter.widget-view+json": {
       "model_id": "29cf4e60b4ac4b97a055c6b391911e40",
       "version_major": 2,
       "version_minor": 0
      },
      "text/plain": [
       "Pandas Apply:   0%|          | 0/611 [00:00<?, ?it/s]"
      ]
     },
     "metadata": {},
     "output_type": "display_data"
    },
    {
     "name": "stderr",
     "output_type": "stream",
     "text": [
      "100%|████████████████████████████████████████████████████████████████████████████████| 611/611 [00:37<00:00, 16.14it/s]\n"
     ]
    }
   ],
   "source": [
    "path_tass = 'tass/'\n",
    "for fn in range(16):\n",
    "    files  = path_tass + f'tass_texts{fn}.csv'\n",
    "    df = pd.read_csv(files, header=None)\n",
    "    df.columns = ['date', 'category', 'title', 'text', 'href']\n",
    "    df = df.drop_duplicates(subset=['title', 'text'])\n",
    "\n",
    "# проверка, что значения являются str\n",
    "    df['test'] = df['title'].swifter.apply(lambda x: type(x))\n",
    "    df = df[df.test==str]\n",
    "    df['test'] = df['text'].swifter.apply(lambda x: type(x))\n",
    "    df = df[df.test==str]\n",
    "    df = df.drop('test', axis=1)\n",
    "\n",
    "    with open(path_tass + \"tass_lemmas/lemma_tass_update.pickle\", 'ab') as file: \n",
    "        for i in tqdm(df.index):\n",
    "\n",
    "            line = df.loc[i].to_dict()\n",
    "\n",
    "            if 'text' in line:\n",
    "                line[\"text\"] = pymorphy_lemma(text=line[\"text\"])\n",
    "            else:\n",
    "                line[\"text\"] = ['']\n",
    "\n",
    "            if 'title' in line:\n",
    "                line[\"title\"] = pymorphy_lemma(text=line[\"title\"]) \n",
    "            else:\n",
    "                line['title'] = ['']\n",
    "\n",
    "            pickle.dump(line, file)\n",
    "    file.close()"
   ]
  },
  {
   "cell_type": "markdown",
   "id": "668f26f6",
   "metadata": {},
   "source": [
    "Присоединяем update к старому файлу с леммами"
   ]
  },
  {
   "cell_type": "code",
   "execution_count": 88,
   "id": "f91453fa",
   "metadata": {},
   "outputs": [],
   "source": [
    "path_fp = 'tass/tass_lemmas/'\n",
    "final_pickle = open(path_fp + \"lemma_tass_v2.pickle\", 'ab')\n",
    "\n",
    "path_tass = 'tass/tass_lemmas/'\n",
    "with open(path_tass + \"lemma_tass_update.pickle\", 'rb') as file:\n",
    "    while True:\n",
    "        try:\n",
    "            item = pickle.load(file)\n",
    "            pickle.dump(item, final_pickle)\n",
    "        except EOFError:\n",
    "            break\n",
    "\n",
    "file.close()\n",
    "final_pickle.close()"
   ]
  },
  {
   "cell_type": "code",
   "execution_count": 90,
   "id": "54c5a105",
   "metadata": {},
   "outputs": [
    {
     "name": "stdout",
     "output_type": "stream",
     "text": [
      "Длина псл файла: 66397\n"
     ]
    }
   ],
   "source": [
    "lemma_final=[]\n",
    "with open(\"tass/tass_lemmas/lemma_tass_v2.pickle\", \"rb\") as file:\n",
    "    while True:\n",
    "        try:\n",
    "            item=pickle.load(file)['date']\n",
    "            lemma_final.append(item)\n",
    "        except EOFError:\n",
    "            break\n",
    "            \n",
    "print(f'Длина обновленного файла: {len(lemma_final)}')"
   ]
  }
 ],
 "metadata": {
  "kernelspec": {
   "display_name": "Python 3 (ipykernel)",
   "language": "python",
   "name": "python3"
  },
  "language_info": {
   "codemirror_mode": {
    "name": "ipython",
    "version": 3
   },
   "file_extension": ".py",
   "mimetype": "text/x-python",
   "name": "python",
   "nbconvert_exporter": "python",
   "pygments_lexer": "ipython3",
   "version": "3.11.5"
  }
 },
 "nbformat": 4,
 "nbformat_minor": 5
}
