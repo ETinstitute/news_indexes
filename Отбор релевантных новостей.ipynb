{
 "cells": [
  {
   "cell_type": "code",
   "execution_count": 1,
   "id": "c3c52205",
   "metadata": {},
   "outputs": [],
   "source": [
    "import requests\n",
    "from fake_useragent import UserAgent\n",
    "import numpy as np\n",
    "import datetime\n",
    "import re\n",
    "from bs4 import BeautifulSoup\n",
    "from IPython.display import clear_output\n",
    "from fake_useragent import UserAgent\n",
    "import json\n",
    "from collections import Counter\n",
    "\n",
    "import time\n",
    "import datetime\n",
    "import pandas as pd\n",
    "import pickle\n",
    "\n",
    "import pymorphy3\n",
    "\n",
    "from tqdm import tqdm\n",
    "from joblib import Parallel, delayed\n",
    "\n",
    "import json"
   ]
  },
  {
   "cell_type": "markdown",
   "id": "b3ed411a",
   "metadata": {},
   "source": [
    "# На вход подается pickle-файл с последним обновлением, на выходе получаем обновленные csv-файлы для каждого макропоказателя"
   ]
  },
  {
   "cell_type": "code",
   "execution_count": 2,
   "id": "72e84204",
   "metadata": {},
   "outputs": [],
   "source": [
    "dict_keys = {\n",
    "\n",
    "'export_import':[['экспорт', 'импорт'],1],\n",
    "  \n",
    "'infl':[['инфляция', 'цена', 'цены', 'рост'],2],\n",
    "    \n",
    "'tov_oborot':[['розничный', 'товарооборот', \n",
    "                        'продукция', 'розница', 'товар', 'услуга', 'производство', 'торговля'],2],\n",
    "    \n",
    "'invest':[['инвестиции', 'капитал', 'основной', 'пии', 'валовые', 'привлечение'],2],   \n",
    "    \n",
    "'bezrab':[['безработица', 'занятость', 'кадров', 'кадры', 'дефицит'],2],  \n",
    "\n",
    "'real_den_doh':[['реальные', 'располагаемые', 'денежные', 'доходы', 'население', 'бедность',\n",
    "             'прожиточный', 'минимум', 'индексация'],3],\n",
    "\n",
    "'real_zp':[['реальная', 'заработная', 'плата', 'денежные', 'доходы', 'население',\n",
    "             'бедность', 'прожиточный', 'минимум', 'индексация'],3],\n",
    "    \n",
    "'base_econom': [['ставка', 'экономика', 'инфляция', 'уровень', 'снижение', 'экономический', 'прогноз', 'ключевой', \n",
    "                'глава', 'считать', 'регулятор', 'повышение', 'заявить', 'сказать', 'решение', 'ситуация', 'оценка', \n",
    "                'снижение', 'активность', 'рецессия', 'процентная', 'процент', 'безработица', 'стагнация', 'спад', 'замедлить',\n",
    "                'замедлиться', 'замедляться', 'износ', 'перенос', 'остановка', 'приостановка', 'остановить', 'негатив',\n",
    "                'негативный', 'замедление'], 4],\n",
    "\n",
    "'prom_proiz': [['промышленность', 'добыча', 'ископаемый', 'производством', 'обрабатывающим', 'электричеству', \n",
    "                'газ', 'энергия', 'вода', 'товар', 'услуга'], 3]}"
   ]
  },
  {
   "cell_type": "code",
   "execution_count": 3,
   "id": "5283ee72",
   "metadata": {},
   "outputs": [],
   "source": [
    "m = pymorphy3.MorphAnalyzer()\n",
    "\n",
    "def pymorphy_lemma(text='The text must be passed to the function as a string!'):\n",
    "    text = re.sub(r'[^а-яёА-Я]+', ' ', text)\n",
    "    tokens = text.lower().split()   \n",
    "    lemmas = []\n",
    "    \n",
    "    for word in tokens:\n",
    "        try:\n",
    "            lemma = m.parse(word)[0].normal_form\n",
    "            lemmas.append(lemma)\n",
    "        except:\n",
    "            continue\n",
    "    return ', '.join(lemmas)"
   ]
  },
  {
   "cell_type": "code",
   "execution_count": 4,
   "id": "d90f05ec",
   "metadata": {},
   "outputs": [],
   "source": [
    "# функция поиска вхождения слов в тексте\n",
    "# по одному слову плохо, т.к. может быть случаное совпадение в \n",
    "# составе другого слова косвенное упоминание, поэтому нужно 3-5\n",
    "def find_top(x, det_wrds, intrs):\n",
    "    intersect = len(set(det_wrds)&set(x.split(', ')))\n",
    "    if intersect == intrs:\n",
    "        return 1\n",
    "    else:\n",
    "        return 0"
   ]
  },
  {
   "cell_type": "markdown",
   "id": "e626cbc8",
   "metadata": {},
   "source": [
    "# CSV для каждого показателя"
   ]
  },
  {
   "cell_type": "code",
   "execution_count": 9,
   "id": "53bd6f6d",
   "metadata": {},
   "outputs": [],
   "source": [
    "def make_sp_csv(key_name):\n",
    "\n",
    "    key_words = dict_keys[key_name][0]\n",
    "    prep_tag = pymorphy_lemma(' '.join(key_words))\n",
    "    key_words = prep_tag.split(', ')\n",
    "\n",
    "    drop_categ = ['Международная панорама', 'Биографии и справки', 'Космос']\n",
    "\n",
    "    path = 'tass/tass_lemmas/'\n",
    "    read_data = []\n",
    "    read_dt = []\n",
    "    i = 0\n",
    "    with open(path + \"lemma_tass_update_2024-07-12.pickle\", 'rb') as file:               # файл с последними новостями (леммы)\n",
    "        while True:\n",
    "            try:\n",
    "                item = pickle.load(file)\n",
    "                read_dt.append(item['date'])\n",
    "                i+=1\n",
    "                if i%1000==0:\n",
    "                    clear_output(wait=True)\n",
    "                    print(i)\n",
    "\n",
    "                if find_top(item['text'], key_words, dict_keys[key_name][1])==1 and item['category'] not in drop_categ:  \n",
    "                    read_data.append(item)                \n",
    "            except EOFError:\n",
    "                break    \n",
    "    file.close()\n",
    "    pd.DataFrame(read_data).to_csv(f'lemmas/main_lemma_{key_name}.csv', mode = 'a', header=None, index=None)\n"
   ]
  },
  {
   "cell_type": "code",
   "execution_count": 8,
   "id": "9231a05b",
   "metadata": {},
   "outputs": [
    {
     "name": "stdout",
     "output_type": "stream",
     "text": [
      "9000\n",
      "CPU times: total: 5.69 s\n",
      "Wall time: 8.62 s\n"
     ]
    }
   ],
   "source": [
    "%%time\n",
    "for key_name in dict_keys.keys():\n",
    "    make_sp_csv(key_name)"
   ]
  }
 ],
 "metadata": {
  "kernelspec": {
   "display_name": "Python 3 (ipykernel)",
   "language": "python",
   "name": "python3"
  },
  "language_info": {
   "codemirror_mode": {
    "name": "ipython",
    "version": 3
   },
   "file_extension": ".py",
   "mimetype": "text/x-python",
   "name": "python",
   "nbconvert_exporter": "python",
   "pygments_lexer": "ipython3",
   "version": "3.11.5"
  }
 },
 "nbformat": 4,
 "nbformat_minor": 5
}
